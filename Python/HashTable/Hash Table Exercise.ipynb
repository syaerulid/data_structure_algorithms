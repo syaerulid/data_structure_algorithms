{
 "cells": [
  {
   "cell_type": "code",
   "execution_count": 61,
   "id": "7d1edc80",
   "metadata": {},
   "outputs": [],
   "source": [
    "import pandas as pd"
   ]
  },
  {
   "cell_type": "code",
   "execution_count": 36,
   "id": "12374002",
   "metadata": {},
   "outputs": [],
   "source": [
    "nyc_weath = {}\n",
    "\n",
    "with open(\"nyc_weath.csv\",'r') as f:\n",
    "    first_line = True # Ignore header\n",
    "    for line in f:\n",
    "        if first_line:\n",
    "            first_line = False\n",
    "            continue\n",
    "        tokens = line.strip().split(',')\n",
    "        date = tokens[0]\n",
    "        weather = float(tokens[1])\n",
    "        nyc_weath[date] = weather"
   ]
  },
  {
   "cell_type": "code",
   "execution_count": 37,
   "id": "810366af",
   "metadata": {},
   "outputs": [
    {
     "data": {
      "text/plain": [
       "{'Jan 1': 27.0,\n",
       " 'Jan 2': 31.0,\n",
       " 'Jan 3': 23.0,\n",
       " 'Jan 4': 34.0,\n",
       " 'Jan 5': 37.0,\n",
       " 'Jan 6': 38.0,\n",
       " 'Jan 7': 29.0,\n",
       " 'Jan 8': 30.0,\n",
       " 'Jan 9': 35.0,\n",
       " 'Jan 10': 30.0}"
      ]
     },
     "execution_count": 37,
     "metadata": {},
     "output_type": "execute_result"
    }
   ],
   "source": [
    "nyc_weath"
   ]
  },
  {
   "cell_type": "code",
   "execution_count": 48,
   "id": "4197eb70",
   "metadata": {},
   "outputs": [],
   "source": [
    "average_nyc = nyc_weath['Jan 1'] + nyc_weath['Jan 2'] + nyc_weath['Jan 3'] + nyc_weath['Jan 4'] + nyc_weath['Jan 5'] + nyc_weath['Jan 6'] + nyc_weath['Jan 7']"
   ]
  },
  {
   "cell_type": "code",
   "execution_count": 49,
   "id": "69cf9e2d",
   "metadata": {},
   "outputs": [],
   "source": [
    "average_nyc = average_nyc/7"
   ]
  },
  {
   "cell_type": "code",
   "execution_count": 50,
   "id": "ab447a4f",
   "metadata": {},
   "outputs": [
    {
     "data": {
      "text/plain": [
       "31.285714285714285"
      ]
     },
     "execution_count": 50,
     "metadata": {},
     "output_type": "execute_result"
    }
   ],
   "source": [
    "average_nyc"
   ]
  },
  {
   "cell_type": "code",
   "execution_count": 56,
   "id": "a121dea5",
   "metadata": {},
   "outputs": [
    {
     "name": "stdout",
     "output_type": "stream",
     "text": [
      "38.0\n"
     ]
    }
   ],
   "source": [
    "max_weather = max(nyc_weath.values())\n",
    "print(max_weather)"
   ]
  },
  {
   "cell_type": "code",
   "execution_count": 57,
   "id": "66fb84c7",
   "metadata": {},
   "outputs": [
    {
     "data": {
      "text/plain": [
       "35.0"
      ]
     },
     "execution_count": 57,
     "metadata": {},
     "output_type": "execute_result"
    }
   ],
   "source": [
    "nyc_weath['Jan 9']"
   ]
  },
  {
   "cell_type": "code",
   "execution_count": 58,
   "id": "12807db3",
   "metadata": {},
   "outputs": [
    {
     "data": {
      "text/plain": [
       "34.0"
      ]
     },
     "execution_count": 58,
     "metadata": {},
     "output_type": "execute_result"
    }
   ],
   "source": [
    "nyc_weath['Jan 4']"
   ]
  },
  {
   "cell_type": "code",
   "execution_count": 59,
   "id": "cc3fd873",
   "metadata": {},
   "outputs": [],
   "source": [
    "# Exercise 2"
   ]
  },
  {
   "cell_type": "code",
   "execution_count": 76,
   "id": "da74d1e3",
   "metadata": {},
   "outputs": [
    {
     "name": "stdout",
     "output_type": "stream",
     "text": [
      "Line skipped \n",
      "Line skipped \n",
      "Line skipped \n"
     ]
    }
   ],
   "source": [
    "poem = []\n",
    "with open(\"poem.txt\",'r') as f:\n",
    "    for line in f:\n",
    "        tokens = line.strip().split(' ')\n",
    "        if len(tokens) >= 2:\n",
    "            word = tokens[0]\n",
    "            sentence = ' '.join(tokens[1:])\n",
    "            poem.append((word, sentence))\n",
    "        else:\n",
    "            print(\"Line skipped\", line.strip())"
   ]
  },
  {
   "cell_type": "code",
   "execution_count": 81,
   "id": "e9b4f52b",
   "metadata": {},
   "outputs": [
    {
     "data": {
      "text/plain": [
       "[('Two', 'roads diverged in a yellow wood,'),\n",
       " ('And', 'sorry I could not travel both'),\n",
       " ('And', 'be one traveler, long I stood'),\n",
       " ('And', 'looked down one as far as I could'),\n",
       " ('To', 'where it bent in the undergrowth;'),\n",
       " ('Then', 'took the other, as just as fair,'),\n",
       " ('And', 'having perhaps the better claim,'),\n",
       " ('Because', 'it was grassy and wanted wear;'),\n",
       " ('Though', 'as for that the passing there'),\n",
       " ('Had', 'worn them really about the same,'),\n",
       " ('And', 'both that morning equally lay'),\n",
       " ('In', 'leaves no step had trodden black.'),\n",
       " ('Oh,', 'I kept the first for another day!'),\n",
       " ('Yet', 'knowing how way leads on to way,'),\n",
       " ('I', 'doubted if I should ever come back.'),\n",
       " ('I', 'shall be telling this with a sigh'),\n",
       " ('Somewhere', 'ages and ages hence:'),\n",
       " ('Two', 'roads diverged in a wood, and Iâ€”'),\n",
       " ('I', 'took the one less traveled by,'),\n",
       " ('And', 'that has made all the difference.')]"
      ]
     },
     "execution_count": 81,
     "metadata": {},
     "output_type": "execute_result"
    }
   ],
   "source": [
    "poem"
   ]
  },
  {
   "cell_type": "code",
   "execution_count": 82,
   "id": "035025df",
   "metadata": {},
   "outputs": [],
   "source": [
    "from collections import Counter"
   ]
  },
  {
   "cell_type": "code",
   "execution_count": 83,
   "id": "686bcc19",
   "metadata": {},
   "outputs": [],
   "source": [
    "word_counter = Counter()"
   ]
  },
  {
   "cell_type": "code",
   "execution_count": 85,
   "id": "323760e1",
   "metadata": {},
   "outputs": [
    {
     "name": "stdout",
     "output_type": "stream",
     "text": [
      "roads : 4\n",
      "diverged : 4\n",
      "in : 6\n",
      "a : 6\n",
      "yellow : 2\n",
      "wood : 4\n",
      "sorry : 2\n",
      "I : 10\n",
      "could : 4\n",
      "not : 2\n",
      "travel : 2\n",
      "both : 4\n",
      "be : 4\n",
      "one : 6\n",
      "traveler : 2\n",
      "long : 2\n",
      "stood : 2\n",
      "looked : 2\n",
      "down : 2\n",
      "as : 10\n",
      "far : 2\n",
      "where : 2\n",
      "it : 4\n",
      "bent : 2\n",
      "the : 16\n",
      "undergrowth; : 2\n",
      "took : 4\n",
      "other : 2\n",
      "just : 2\n",
      "fair : 2\n",
      "having : 2\n",
      "perhaps : 2\n",
      "better : 2\n",
      "claim : 2\n",
      "was : 2\n",
      "grassy : 2\n",
      "and : 6\n",
      "wanted : 2\n",
      "wear; : 2\n",
      "for : 4\n",
      "that : 6\n",
      "passing : 2\n",
      "there : 2\n",
      "worn : 2\n",
      "them : 2\n",
      "really : 2\n",
      "about : 2\n",
      "same : 2\n",
      "morning : 2\n",
      "equally : 2\n",
      "lay : 2\n",
      "leaves : 2\n",
      "no : 2\n",
      "step : 2\n",
      "had : 2\n",
      "trodden : 2\n",
      "black. : 2\n",
      "kept : 2\n",
      "first : 2\n",
      "another : 2\n",
      "day : 2\n",
      "knowing : 2\n",
      "how : 2\n",
      "way : 4\n",
      "leads : 2\n",
      "on : 2\n",
      "to : 2\n",
      "doubted : 2\n",
      "if : 2\n",
      "should : 2\n",
      "ever : 2\n",
      "come : 2\n",
      "back. : 2\n",
      "shall : 2\n",
      "telling : 2\n",
      "this : 2\n",
      "with : 2\n",
      "sigh : 2\n",
      "ages : 4\n",
      "hence : 2\n",
      "Iâ€” : 2\n",
      "less : 2\n",
      "traveled : 2\n",
      "by : 2\n",
      "has : 2\n",
      "made : 2\n",
      "all : 2\n",
      "difference. : 2\n"
     ]
    }
   ],
   "source": [
    "for word, sentence in poem:\n",
    "    words = sentence.split()\n",
    "    for w in words:\n",
    "        cleaned_word = w.strip('/,?!()[]{}\":,') # clean punctuation\n",
    "        word_counter[cleaned_word] += 1\n",
    "        \n",
    "# print word counts\n",
    "for word, count in word_counter.items():\n",
    "    print(f\"{word} : {count}\")"
   ]
  },
  {
   "cell_type": "code",
   "execution_count": null,
   "id": "f84c129f",
   "metadata": {},
   "outputs": [],
   "source": []
  }
 ],
 "metadata": {
  "kernelspec": {
   "display_name": "Python 3 (ipykernel)",
   "language": "python",
   "name": "python3"
  },
  "language_info": {
   "codemirror_mode": {
    "name": "ipython",
    "version": 3
   },
   "file_extension": ".py",
   "mimetype": "text/x-python",
   "name": "python",
   "nbconvert_exporter": "python",
   "pygments_lexer": "ipython3",
   "version": "3.11.4"
  }
 },
 "nbformat": 4,
 "nbformat_minor": 5
}
